{
 "cells": [
  {
   "cell_type": "code",
   "id": "initial_id",
   "metadata": {
    "collapsed": true,
    "ExecuteTime": {
     "end_time": "2024-07-19T01:51:49.043777Z",
     "start_time": "2024-07-19T01:50:25.772905Z"
    }
   },
   "source": [
    "import os\n",
    "\n",
    "path = r\"G:\\敦煌\\眼镜\\可乐\\7月11日\"\n",
    "# 查找路径中所有的视频文件\n",
    "video_files = []\n",
    "for root, dirs, files in os.walk(path):\n",
    "    for file in files:\n",
    "        if file.endswith('.mp4'):\n",
    "            video_files.append(os.path.join(root, file))\n",
    "video_files"
   ],
   "outputs": [
    {
     "data": {
      "text/plain": [
       "['G:\\\\敦煌\\\\眼镜\\\\可乐\\\\7月11日\\\\CH-CH5525-1720440297345-332995-P205\\\\CH-CH5525-11.mp4',\n",
       " 'G:\\\\敦煌\\\\眼镜\\\\可乐\\\\7月11日\\\\CH-ch6090-1720440297346-332996-P185\\\\CH-ch6090-11.mp4',\n",
       " 'G:\\\\敦煌\\\\眼镜\\\\可乐\\\\7月11日\\\\PR-SPRA03S-1720440297337-332987-P175\\\\PR-SPRA03S-11.mp4',\n",
       " 'G:\\\\敦煌\\\\眼镜\\\\可乐\\\\7月11日\\\\SL-SLM94-1720440297341-332991-P170\\\\SL-SLM94-11.mp4']"
      ]
     },
     "execution_count": 2,
     "metadata": {},
     "output_type": "execute_result"
    }
   ],
   "execution_count": 2
  }
 ],
 "metadata": {
  "kernelspec": {
   "display_name": "Python 3",
   "language": "python",
   "name": "python3"
  },
  "language_info": {
   "codemirror_mode": {
    "name": "ipython",
    "version": 2
   },
   "file_extension": ".py",
   "mimetype": "text/x-python",
   "name": "python",
   "nbconvert_exporter": "python",
   "pygments_lexer": "ipython2",
   "version": "2.7.6"
  }
 },
 "nbformat": 4,
 "nbformat_minor": 5
}
